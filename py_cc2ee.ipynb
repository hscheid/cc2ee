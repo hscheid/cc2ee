{
 "cells": [
  {
   "cell_type": "code",
   "execution_count": 12,
   "id": "9b0f53f4",
   "metadata": {},
   "outputs": [],
   "source": [
    "import os\n",
    "import numpy as np"
   ]
  },
  {
   "cell_type": "markdown",
   "id": "fb76381d",
   "metadata": {},
   "source": [
    "The values for the fragmentation functions (FF) are taken from the publication:\n",
    "https://journals.aps.org/prd/abstract/10.1103/PhysRevD.105.L011103\n",
    "The branching ratios for the decays into electrons are taken from the 2020 ed. of the PDG booklet.\n",
    "For most charmed hadrons inclusive branching ratios are provided, however in the case of $\\Xi_{c}^{0}$ and $\\Xi_{c}^{+}$ only one deacy in electrons is listed and no inclusive value is given.\n",
    "\n",
    "The values are stored in a nested list.\n",
    "Each sublist is contains: `name, FF,statFF,syst up, syst down, BR, unc up, unc down`"
   ]
  },
  {
   "cell_type": "code",
   "execution_count": 13,
   "id": "e915d47e",
   "metadata": {},
   "outputs": [],
   "source": [
    "valuesHadrons = [[\"$D^{0}$\",  39.1 ,1.7, 2.5, 3.7,  6.49, 0.11, 0.11],\n",
    "[\"$D^{+}$\",                   17.3 ,1.8, 1.7, 2.1, 16.07, 0.30, 0.30],\n",
    "[\"$D^{+}_{\\mathrm s}$\",       7.3  ,1.0, 1.9, 1.1,  6.50, 0.40, 0.40],\n",
    "[\"$\\Lambda^{+}_{\\mathrm c}$\", 20.4 ,1.3, 1.6, 2.2,  3.95, 0.35, 0.35],\n",
    "[\"$\\Xi^{0}_{\\mathrm c}$\",     8.0  ,1.2, 2.5, 2.4,  1.80, 1.20, 1.20],\n",
    "[\"$\\Xi^{+}_{\\mathrm c}$\",     8.0  ,1.2, 2.5, 2.4,  2.30, 0.70, 0.80]]"
   ]
  },
  {
   "cell_type": "markdown",
   "id": "db2f1dc7",
   "metadata": {},
   "source": [
    "The central value is simply the product of the fragmentation function which is `[1]` and the branching ratio `[5]`.\n",
    "The uncertainties then follow:\n",
    "* [2] : statistical uncertainty of FF\n",
    "* [3] : upper systematic uncertainty of FF\n",
    "* [4] : lower systematic uncertainty of FF\n",
    "* [6] : upper uncertainty of BR (from PDG)\n",
    "* [7] : upper uncertainty of BR (from PDG)\n",
    "To make the further calculations easier, we also add the stat. and syst. in the FF case."
   ]
  },
  {
   "cell_type": "code",
   "execution_count": 29,
   "id": "31310cbd",
   "metadata": {},
   "outputs": [
    {
     "name": "stdout",
     "output_type": "stream",
     "text": [
      "3.023243291566195 4.071854614300467\n",
      "2.4758836806279896 2.7658633371878665\n",
      "2.1470910553583886 1.4866068747318506\n",
      "2.0615528128088303 2.5553864678361276\n",
      "2.773084924772409 2.6832815729997477\n",
      "2.773084924772409 2.6832815729997477\n"
     ]
    }
   ],
   "source": [
    "def quadSum (A,B):\n",
    "    return np.sqrt(A**2 + B**2)\n",
    "\n",
    "for i in range(len(valuesHadrons)):\n",
    "    print(quadSum(valuesHadrons[i][2],valuesHadrons[i][3]),quadSum(valuesHadrons[i][2],valuesHadrons[i][4]))"
   ]
  },
  {
   "cell_type": "markdown",
   "id": "25e7b394",
   "metadata": {},
   "source": [
    "With this we can simplify the list and the make the calculations a bit more readable."
   ]
  },
  {
   "cell_type": "code",
   "execution_count": 52,
   "id": "691e938a",
   "metadata": {},
   "outputs": [],
   "source": [
    "valuesHadrons2 = [[\"$D^{0}$\", 39.1 ,3.0232, 4.0719,  6.49, 0.11, 0.11],\n",
    "[\"$D^{+}$\",                   17.3 ,2.4759, 2.7659, 16.07, 0.30, 0.30],\n",
    "[\"$D^{+}_{\\mathrm s}$\",       7.3  ,2.1471, 1.4866,  6.50, 0.40, 0.40],\n",
    "[\"$\\Lambda^{+}_{\\mathrm c}$\", 20.4 ,2.0616, 2.5554,  3.95, 0.35, 0.35],\n",
    "[\"$\\Xi^{0}_{\\mathrm c}$\",     8.0  ,2.7731, 2.6833,  1.80, 1.20, 1.20],\n",
    "[\"$\\Xi^{+}_{\\mathrm c}$\",     8.0  ,2.7731, 2.6833,  2.30, 0.70, 0.80]]"
   ]
  },
  {
   "cell_type": "code",
   "execution_count": 60,
   "id": "f40af666",
   "metadata": {},
   "outputs": [],
   "source": [
    "def calcFtBR (list_):\n",
    "    val = (list_[1]/100.)*(list_[4]/100)\n",
    "    # gaussian error propagation:\n",
    "    # A * B -> Add the relative uncertainties\n",
    "    # they are uncorrelated -> quadratic sum\n",
    "    un_u = np.sqrt( (list_[2]/list_[1])**2 + (list_[5]/list_[4])**2 )\n",
    "    un_l = np.sqrt( (list_[3]/list_[1])**2 + (list_[6]/list_[4])**2 )\n",
    "    # back to %\n",
    "    val *= 100\n",
    "    # and back to absolute uncertainties\n",
    "    un_u *= val\n",
    "    un_l *= val\n",
    "    # return a list with the \n",
    "    return [list_[0], val, un_u, un_l]"
   ]
  },
  {
   "cell_type": "code",
   "execution_count": 62,
   "id": "990d4a6c",
   "metadata": {},
   "outputs": [
    {
     "name": "stdout",
     "output_type": "stream",
     "text": [
      "['$D^{0}$', 2.53759, 0.20086445420796187, 0.26774342699871473]\n",
      "['$D^{+}$', 2.7801100000000005, 0.40124782937361414, 0.4474999396254896]\n",
      "['$D^{+}_{\\\\mathrm s}$', 0.47450000000000003, 0.1425834923202893, 0.10094455726288566]\n",
      "['$\\\\Lambda^{+}_{\\\\mathrm c}$', 0.8058, 0.10830201319569271, 0.12363858785545069]\n",
      "['$\\\\Xi^{0}_{\\\\mathrm c}$', 0.14400000000000002, 0.1082016039143598, 0.10746549232362919]\n",
      "['$\\\\Xi^{+}_{\\\\mathrm c}$', 0.184, 0.08487670015787607, 0.0889092363751371]\n",
      "c2e :  6.926 + 0.5023120237512928 - 0.5629144935662014\n",
      "c2e :  6.926 + 7.25255593057021 %- 8.127555494747348 %\n"
     ]
    }
   ],
   "source": [
    "c2e = 0.\n",
    "c2e_u = 0.\n",
    "c2e_l = 0.\n",
    "for i in range(len(valuesHadrons2)):\n",
    "    l = calcFtBR(valuesHadrons2[i])\n",
    "    print(l)\n",
    "    c2e += l[1]\n",
    "    c2e_u += (l[2]**2)\n",
    "    c2e_l += (l[3]**2)\n",
    "print(\"c2e : \",c2e, \"+\",np.sqrt(c2e_u),\"-\",np.sqrt(c2e_l))\n",
    "print(\"c2e : \",c2e, \"+\",np.sqrt(c2e_u)/c2e*100,\"%-\",np.sqrt(c2e_l)/c2e*100,\"%\")"
   ]
  },
  {
   "cell_type": "code",
   "execution_count": null,
   "id": "0c63bbb1",
   "metadata": {},
   "outputs": [],
   "source": []
  }
 ],
 "metadata": {
  "kernelspec": {
   "display_name": "Python 3 (ipykernel)",
   "language": "python",
   "name": "python3"
  },
  "language_info": {
   "codemirror_mode": {
    "name": "ipython",
    "version": 3
   },
   "file_extension": ".py",
   "mimetype": "text/x-python",
   "name": "python",
   "nbconvert_exporter": "python",
   "pygments_lexer": "ipython3",
   "version": "3.9.10"
  }
 },
 "nbformat": 4,
 "nbformat_minor": 5
}
