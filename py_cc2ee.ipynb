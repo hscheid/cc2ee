{
 "cells": [
  {
   "cell_type": "code",
   "execution_count": 12,
   "id": "5e941489",
   "metadata": {},
   "outputs": [],
   "source": [
    "import os\n",
    "import numpy as np"
   ]
  },
  {
   "cell_type": "markdown",
   "id": "d51bf729",
   "metadata": {},
   "source": [
    "The values for the fragmentation functions (FF) are taken from the publication:\n",
    "https://journals.aps.org/prd/abstract/10.1103/PhysRevD.105.L011103\n",
    "The branching ratios for the decays into electrons are taken from the 2020 ed. of the PDG booklet.\n",
    "For most charmed hadrons inclusive branching ratios are provided, however in the case of $\\Xi_{c}^{0}$ and $\\Xi_{c}^{+}$ only one deacy in electrons is listed and no inclusive value is given.\n",
    "\n",
    "The values are stored in a nested list.\n",
    "Each sublist is contains: `name, FF,statFF,syst up, syst down, BR, unc up, unc down`"
   ]
  },
  {
   "cell_type": "code",
   "execution_count": 13,
   "id": "ce154c7a",
   "metadata": {},
   "outputs": [],
   "source": [
    "valuesHadrons = [[\"$D^{0}$\",  39.1 ,1.7, 2.5, 3.7,  6.49, 0.11, 0.11],\n",
    "[\"$D^{+}$\",                   17.3 ,1.8, 1.7, 2.1, 16.07, 0.30, 0.30],\n",
    "[\"$D^{+}_{\\mathrm s}$\",       7.3  ,1.0, 1.9, 1.1,  6.50, 0.40, 0.40],\n",
    "[\"$\\Lambda^{+}_{\\mathrm c}$\", 20.4 ,1.3, 1.6, 2.2,  3.95, 0.35, 0.35],\n",
    "[\"$\\Xi^{0}_{\\mathrm c}$\",     8.0  ,1.2, 2.5, 2.4,  1.80, 1.20, 1.20],\n",
    "[\"$\\Xi^{+}_{\\mathrm c}$\",     8.0  ,1.2, 2.5, 2.4,  2.30, 0.70, 0.80]]"
   ]
  },
  {
   "cell_type": "markdown",
   "id": "717df105",
   "metadata": {},
   "source": [
    "The central value is simply the product of the fragmentation function which is `[1]` and the branching ratio `[5]`.\n",
    "The uncertainties then follow:\n",
    "* [2] : statistical uncertainty of FF\n",
    "* [3] : upper systematic uncertainty of FF\n",
    "* [4] : lower systematic uncertainty of FF\n",
    "* [6] : upper uncertainty of BR (from PDG)\n",
    "* [7] : upper uncertainty of BR (from PDG)\n",
    "To make the further calculations easier, we also add the stat. and syst. in the FF case."
   ]
  },
  {
   "cell_type": "code",
   "execution_count": 29,
   "id": "547b19fe",
   "metadata": {},
   "outputs": [
    {
     "name": "stdout",
     "output_type": "stream",
     "text": [
      "3.023243291566195 4.071854614300467\n",
      "2.4758836806279896 2.7658633371878665\n",
      "2.1470910553583886 1.4866068747318506\n",
      "2.0615528128088303 2.5553864678361276\n",
      "2.773084924772409 2.6832815729997477\n",
      "2.773084924772409 2.6832815729997477\n"
     ]
    }
   ],
   "source": [
    "def quadSum (A,B):\n",
    "    return np.sqrt(A**2 + B**2)\n",
    "\n",
    "for i in range(len(valuesHadrons)):\n",
    "    print(quadSum(valuesHadrons[i][2],valuesHadrons[i][3]),quadSum(valuesHadrons[i][2],valuesHadrons[i][4]))"
   ]
  },
  {
   "cell_type": "markdown",
   "id": "c3a349a6",
   "metadata": {},
   "source": [
    "With this we can simplify the list and the make the calculations a bit more readable."
   ]
  },
  {
   "cell_type": "code",
   "execution_count": 52,
   "id": "9aaeff24",
   "metadata": {},
   "outputs": [],
   "source": [
    "valuesHadrons2 = [[\"$D^{0}$\", 39.1 ,3.0232, 4.0719,  6.49, 0.11, 0.11],\n",
    "[\"$D^{+}$\",                   17.3 ,2.4759, 2.7659, 16.07, 0.30, 0.30],\n",
    "[\"$D^{+}_{\\mathrm s}$\",       7.3  ,2.1471, 1.4866,  6.50, 0.40, 0.40],\n",
    "[\"$\\Lambda^{+}_{\\mathrm c}$\", 20.4 ,2.0616, 2.5554,  3.95, 0.35, 0.35],\n",
    "[\"$\\Xi^{0}_{\\mathrm c}$\",     8.0  ,2.7731, 2.6833,  1.80, 1.20, 1.20],\n",
    "[\"$\\Xi^{+}_{\\mathrm c}$\",     8.0  ,2.7731, 2.6833,  2.30, 0.70, 0.80]]"
   ]
  },
  {
   "cell_type": "code",
   "execution_count": 60,
   "id": "e88cda82",
   "metadata": {},
   "outputs": [],
   "source": [
    "def calcFtBR (list_):\n",
    "    val = (list_[1]/100.)*(list_[4]/100)\n",
    "    # gaussian error propagation:\n",
    "    # A * B -> Add the relative uncertainties\n",
    "    # they are uncorrelated -> quadratic sum\n",
    "    un_u = np.sqrt( (list_[2]/list_[1])**2 + (list_[5]/list_[4])**2 )\n",
    "    un_l = np.sqrt( (list_[3]/list_[1])**2 + (list_[6]/list_[4])**2 )\n",
    "    # back to %\n",
    "    val *= 100\n",
    "    # and back to absolute uncertainties\n",
    "    un_u *= val\n",
    "    un_l *= val\n",
    "    # return a list with the \n",
    "    return [list_[0], val, un_u, un_l]"
   ]
  },
  {
   "cell_type": "code",
   "execution_count": 70,
   "id": "a1ec6d17",
   "metadata": {},
   "outputs": [
    {
     "name": "stdout",
     "output_type": "stream",
     "text": [
      "c2e :  6.926 + 0.7087397433129405 - 0.7502762781577206\n",
      "c2e :  6.926 + 7.25255593057021 %- 8.127555494747348 %\n"
     ]
    }
   ],
   "source": [
    "c2e = 0.\n",
    "c2e_u = 0.\n",
    "c2e_l = 0.\n",
    "for i in range(len(valuesHadrons2)):\n",
    "    l = calcFtBR(valuesHadrons2[i])\n",
    "#     print(l)\n",
    "    c2e += l[1]\n",
    "    c2e_u += (l[2]**2)\n",
    "    c2e_l += (l[3]**2)\n",
    "c2e_u = np.sqrt(c2e_u)\n",
    "c2e_l = np.sqrt(c2e_l)\n",
    "print(\"c2e : \",c2e, \"+\",np.sqrt(c2e_u),\"-\",np.sqrt(c2e_l))\n",
    "print(\"c2e : \",c2e, \"+\",c2e_u/c2e*100,\"%-\",c2e_l/c2e*100,\"%\")\n"
   ]
  },
  {
   "cell_type": "markdown",
   "id": "86de8a97",
   "metadata": {},
   "source": [
    "Now we can calculate the $c\\bar{c} \\rightarrow ee$ as c2e$^2$. For the uncertainties we solve:\n",
    "\\begin{equation}\n",
    "\\delta f(x,\\delta x) := \\sqrt{\\frac{\\partial f(x)}{\\partial x}\\delta x} \n",
    "\\end{equation}\n",
    "with $x^2$ we can wite:\n",
    "\\begin{equation}\n",
    "\\delta f(x,\\delta x) := \\sqrt{2 \\cdot x \\cdot \\delta x} \n",
    "\\end{equation}"
   ]
  },
  {
   "cell_type": "code",
   "execution_count": 85,
   "id": "b9898aa6",
   "metadata": {},
   "outputs": [
    {
     "name": "stdout",
     "output_type": "stream",
     "text": [
      "[0.47969476, 0.02637807072741088, 0.027923988907172667]\n"
     ]
    }
   ],
   "source": [
    "cc2ee = [c2e**2/100, np.sqrt(2* c2e * c2e_u)/100,  np.sqrt(2* c2e * c2e_l)/100]\n",
    "print(cc2ee)"
   ]
  },
  {
   "cell_type": "markdown",
   "id": "ef536ed1",
   "metadata": {},
   "source": [
    "This should now be compared with the value we have from the $Z^0 \\rightarrow ee$ of $9.6\\pm0.4$%.\n",
    "\n"
   ]
  },
  {
   "cell_type": "code",
   "execution_count": 86,
   "id": "524c24c0",
   "metadata": {},
   "outputs": [
    {
     "name": "stdout",
     "output_type": "stream",
     "text": [
      "[0.9216, 0.027712812921102038, 0.027712812921102038]\n"
     ]
    }
   ],
   "source": [
    "cc2ee_old = [9.6**2/100, np.sqrt(2* 9.6 * 0.4)/100,  np.sqrt(2* 9.6 * 0.4)/100]\n",
    "print(cc2ee_old)"
   ]
  },
  {
   "cell_type": "code",
   "execution_count": 87,
   "id": "e873baad",
   "metadata": {},
   "outputs": [
    {
     "name": "stdout",
     "output_type": "stream",
     "text": [
      "The new points will be a factor 1.9212217369228715 higher\n"
     ]
    }
   ],
   "source": [
    "print(\"The new points will be a factor\", cc2ee_old[0]/cc2ee[0] ,\"higher\")"
   ]
  },
  {
   "cell_type": "code",
   "execution_count": 84,
   "id": "dd29f9d8",
   "metadata": {},
   "outputs": [
    {
     "name": "stdout",
     "output_type": "stream",
     "text": [
      "The uncertainty is now  0.05821199486767933 instead of 22%\n"
     ]
    }
   ],
   "source": [
    "print(\"The uncertainty is now \",cc2ee[2]/cc2ee[0],\"instead of 22%\")"
   ]
  },
  {
   "cell_type": "code",
   "execution_count": null,
   "id": "fd8000df",
   "metadata": {},
   "outputs": [],
   "source": []
  }
 ],
 "metadata": {
  "kernelspec": {
   "display_name": "Python 3 (ipykernel)",
   "language": "python",
   "name": "python3"
  },
  "language_info": {
   "codemirror_mode": {
    "name": "ipython",
    "version": 3
   },
   "file_extension": ".py",
   "mimetype": "text/x-python",
   "name": "python",
   "nbconvert_exporter": "python",
   "pygments_lexer": "ipython3",
   "version": "3.9.10"
  }
 },
 "nbformat": 4,
 "nbformat_minor": 5
}
