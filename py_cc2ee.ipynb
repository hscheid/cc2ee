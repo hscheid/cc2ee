{
 "cells": [
  {
   "cell_type": "code",
   "execution_count": 1,
   "id": "5e941489",
   "metadata": {},
   "outputs": [],
   "source": [
    "import os\n",
    "import numpy as np"
   ]
  },
  {
   "cell_type": "markdown",
   "id": "d51bf729",
   "metadata": {},
   "source": [
    "The values for the fragmentation functions (FF) are taken from the publication:\n",
    "https://journals.aps.org/prd/abstract/10.1103/PhysRevD.105.L011103\n",
    "The branching ratios for the decays into electrons are taken from the 2020 ed. of the PDG booklet.\n",
    "For most charmed hadrons inclusive branching ratios are provided, however in the case of $\\Xi_{c}^{0}$ and $\\Xi_{c}^{+}$ only one deacy in electrons is listed and no inclusive value is given.\n",
    "\n",
    "The values are stored in a nested list.\n",
    "Each sublist is contains: `name, FF,statFF,syst up, syst down, BR, unc up, unc down`"
   ]
  },
  {
   "cell_type": "code",
   "execution_count": 2,
   "id": "ce154c7a",
   "metadata": {},
   "outputs": [],
   "source": [
    "valuesHadrons = [[\"$D^{0}$\",  39.1 ,1.7, 2.5, 3.7,  6.49, 0.11, 0.11],\n",
    "[\"$D^{+}$\",                   17.3 ,1.8, 1.7, 2.1, 16.07, 0.30, 0.30],\n",
    "[\"$D^{+}_{\\mathrm s}$\",       7.3  ,1.0, 1.9, 1.1,  6.50, 0.40, 0.40],\n",
    "[\"$\\Lambda^{+}_{\\mathrm c}$\", 20.4 ,1.3, 1.6, 2.2,  3.95, 0.35, 0.35],\n",
    "[\"$\\Xi^{0}_{\\mathrm c}$\",     8.0  ,1.2, 2.5, 2.4,  1.80, 1.20, 1.20],\n",
    "[\"$\\Xi^{+}_{\\mathrm c}$\",     8.0  ,1.2, 2.5, 2.4,  7.00, 4.00, 4.0]] # update in the 2021 pdg\n",
    "# [\"$\\Xi^{+}_{\\mathrm c}$\",     8.0  ,1.2, 2.5, 2.4,  2.30, 0.70, 0.80]]"
   ]
  },
  {
   "cell_type": "markdown",
   "id": "717df105",
   "metadata": {},
   "source": [
    "The central value is simply the product of the fragmentation function which is `[1]` and the branching ratio `[5]`.\n",
    "The uncertainties then follow:\n",
    "* [2] : statistical uncertainty of FF\n",
    "* [3] : upper systematic uncertainty of FF\n",
    "* [4] : lower systematic uncertainty of FF\n",
    "* [6] : upper uncertainty of BR (from PDG)\n",
    "* [7] : upper uncertainty of BR (from PDG)\n",
    "To make the further calculations easier, we also add the stat. and syst. in the FF case."
   ]
  },
  {
   "cell_type": "code",
   "execution_count": 3,
   "id": "547b19fe",
   "metadata": {},
   "outputs": [
    {
     "name": "stdout",
     "output_type": "stream",
     "text": [
      "['$D^{0}$', 39.1, 3.023243291566195, 4.071854614300467, 6.49, 0.11, 0.11]\n",
      "['$D^{+}$', 17.3, 2.4758836806279896, 2.7658633371878665, 16.07, 0.3, 0.3]\n",
      "['$D^{+}_{\\\\mathrm s}$', 7.3, 2.1470910553583886, 1.4866068747318506, 6.5, 0.4, 0.4]\n",
      "['$\\\\Lambda^{+}_{\\\\mathrm c}$', 20.4, 2.0615528128088303, 2.5553864678361276, 3.95, 0.35, 0.35]\n",
      "['$\\\\Xi^{0}_{\\\\mathrm c}$', 8.0, 2.773084924772409, 2.6832815729997477, 1.8, 1.2, 1.2]\n",
      "['$\\\\Xi^{+}_{\\\\mathrm c}$', 8.0, 2.773084924772409, 2.6832815729997477, 7.0, 4.0, 4.0]\n"
     ]
    }
   ],
   "source": [
    "def quadSum (A,B):\n",
    "    return np.sqrt(A**2 + B**2)\n",
    "\n",
    "\n",
    "lst_values = [[] for _ in range(len(valuesHadrons))]\n",
    "\n",
    "for i in range(len(valuesHadrons)):\n",
    "    # add the hadrin name\n",
    "    lst_values[i].append(valuesHadrons[i][0])\n",
    "    # the first value:\n",
    "    lst_values[i].append(valuesHadrons[i][1])\n",
    "    # calculate uncertaities on first value    \n",
    "    lst_values[i].append(quadSum(valuesHadrons[i][2],valuesHadrons[i][3]))\n",
    "    # calculate uncertaities on second value  \n",
    "    lst_values[i].append(quadSum(valuesHadrons[i][2],valuesHadrons[i][4]))\n",
    "    # and wirte the last 3\n",
    "    lst_values[i].append(valuesHadrons[i][5])\n",
    "    lst_values[i].append(valuesHadrons[i][6])\n",
    "    lst_values[i].append(valuesHadrons[i][7])\n",
    "for i in range(len(lst_values)):\n",
    "    print(lst_values[i])"
   ]
  },
  {
   "cell_type": "markdown",
   "id": "c3a349a6",
   "metadata": {},
   "source": [
    "With this we can simplify the list and the make the calculations a bit more readable."
   ]
  },
  {
   "cell_type": "code",
   "execution_count": 4,
   "id": "9aaeff24",
   "metadata": {},
   "outputs": [],
   "source": [
    "valuesHadrons2 = [[\"$D^{0}$\", 39.1 ,3.0232, 4.0719,  6.49, 0.11, 0.11],\n",
    "[\"$D^{+}$\",                   17.3 ,2.4759, 2.7659, 16.07, 0.30, 0.30],\n",
    "[\"$D^{+}_{\\mathrm s}$\",       7.3  ,2.1471, 1.4866,  6.50, 0.40, 0.40],\n",
    "[\"$\\Lambda^{+}_{\\mathrm c}$\", 20.4 ,2.0616, 2.5554,  3.95, 0.35, 0.35],\n",
    "[\"$\\Xi^{0}_{\\mathrm c}$\",     8.0  ,2.7731, 2.6833,  1.80, 1.20, 1.20],\n",
    "[\"$\\Xi^{+}_{\\mathrm c}$\",     8.0  ,2.7731, 2.6833,  7.00, 4.00, 4.0]] # update in the 2021 pdg\n",
    "# [\"$\\Xi^{+}_{\\mathrm c}$\",     8.0  ,2.7731, 2.6833,  2.30, 0.70, 0.80]]"
   ]
  },
  {
   "cell_type": "code",
   "execution_count": 5,
   "id": "efc88d63",
   "metadata": {},
   "outputs": [],
   "source": [
    "valuesHadrons2 = lst_values"
   ]
  },
  {
   "cell_type": "code",
   "execution_count": 6,
   "id": "e88cda82",
   "metadata": {},
   "outputs": [],
   "source": [
    "def calcFtBR (list_):\n",
    "    val = (list_[1]/100.)*(list_[4]/100)\n",
    "    # gaussian error propagation:\n",
    "    # A * B -> Add the relative uncertainties\n",
    "    # they are uncorrelated -> quadratic sum\n",
    "    un_u = np.sqrt( (list_[2]/list_[1])**2 + (list_[5]/list_[4])**2 )\n",
    "    un_l = np.sqrt( (list_[3]/list_[1])**2 + (list_[6]/list_[4])**2 )\n",
    "    # back to %\n",
    "    val *= 100\n",
    "    # and back to absolute uncertainties\n",
    "    un_u *= val\n",
    "    un_l *= val\n",
    "    # return a list with the \n",
    "    return [list_[0], val, un_u, un_l]"
   ]
  },
  {
   "cell_type": "code",
   "execution_count": 43,
   "id": "a1ec6d17",
   "metadata": {},
   "outputs": [
    {
     "name": "stdout",
     "output_type": "stream",
     "text": [
      "['$D^{0}$', 2.53759, 0.20086719866618338, 0.26774051972012003]\n",
      "['$D^{+}$', 2.7801100000000005, 0.4012452288812915, 0.44749408767044074]\n",
      "['$D^{+}_{\\\\mathrm s}$', 0.47450000000000003, 0.14258292324117922, 0.1009449850165921]\n",
      "['$\\\\Lambda^{+}_{\\\\mathrm c}$', 0.8058, 0.10830061172495747, 0.12363815147437299]\n",
      "['$\\\\Xi^{0}_{\\\\mathrm c}$', 0.14400000000000002, 0.10820147873296372, 0.10746534325074295]\n",
      "['$\\\\Xi^{+}_{\\\\mathrm c}$', 0.56, 0.37427396382863715, 0.371052556924218]\n",
      "c2e :  7.3 ^{+ 0.62 }_{- 0.67 }\n",
      "c2e :  7.302 + 8.499576224228948 %- 9.152452382728903 %\n"
     ]
    }
   ],
   "source": [
    "c2e = 0.\n",
    "c2e_u = 0.\n",
    "c2e_l = 0.\n",
    "for i in range(len(valuesHadrons2)):\n",
    "    l = calcFtBR(valuesHadrons2[i])\n",
    "    print(l)\n",
    "    c2e += l[1]\n",
    "    c2e_u += (l[2]**2)\n",
    "    c2e_l += (l[3]**2)\n",
    "c2e_u = np.sqrt(c2e_u)\n",
    "c2e_l = np.sqrt(c2e_l)\n",
    "print(\"c2e : \",np.round(c2e,2), \"^{+\",np.round(c2e_u,2),\"}_{-\",np.round(c2e_l,2),\"}\")\n",
    "print(\"c2e : \",c2e, \"+\",c2e_u/c2e*100,\"%-\",c2e_l/c2e*100,\"%\")\n"
   ]
  },
  {
   "cell_type": "markdown",
   "id": "86de8a97",
   "metadata": {},
   "source": [
    "Now we can calculate the $c\\bar{c} \\rightarrow ee$ as c2e$^2$. For the uncertainties we solve:\n",
    "\\begin{equation}\n",
    "\\delta f(x,\\delta x) := \\sqrt{\\left(\\frac{\\partial f(x)}{\\partial x}\\right)^{2}\\delta x^{2}} \n",
    "\\end{equation}\n",
    "with $x^2$ we can wite:\n",
    "\\begin{equation}\n",
    "\\delta f(x,\\delta x) := 2 \\cdot x \\cdot \\delta x\n",
    "\\end{equation}"
   ]
  },
  {
   "cell_type": "code",
   "execution_count": 42,
   "id": "b9898aa6",
   "metadata": {},
   "outputs": [
    {
     "name": "stdout",
     "output_type": "stream",
     "text": [
      "0.53 ^{+ 0.09 }_{- 0.1 }\n"
     ]
    }
   ],
   "source": [
    "cc2ee = [c2e**2/100, (2* c2e * c2e_u)/100,  (2* c2e * c2e_l)/100]\n",
    "print(np.round(cc2ee[0],2),\"^{+\",np.round(cc2ee[1],2),\"}_{-\",np.round(cc2ee[2],2),\"}\")"
   ]
  },
  {
   "cell_type": "markdown",
   "id": "ef536ed1",
   "metadata": {},
   "source": [
    "This should now be compared with the value we have from the $Z^0 \\rightarrow ee$ of $9.6\\pm0.4$%.\n",
    "\n"
   ]
  },
  {
   "cell_type": "code",
   "execution_count": 9,
   "id": "524c24c0",
   "metadata": {},
   "outputs": [
    {
     "name": "stdout",
     "output_type": "stream",
     "text": [
      "[0.9216, 0.0768, 0.0768]\n"
     ]
    }
   ],
   "source": [
    "cc2ee_old = [9.6**2/100, (2* 9.6 * 0.4)/100,  (2* 9.6 * 0.4)/100]\n",
    "print(cc2ee_old)"
   ]
  },
  {
   "cell_type": "code",
   "execution_count": 10,
   "id": "e873baad",
   "metadata": {},
   "outputs": [
    {
     "name": "stdout",
     "output_type": "stream",
     "text": [
      "The new points will be a factor 1.7284579117122607 higher\n"
     ]
    }
   ],
   "source": [
    "corrFac = cc2ee_old[0]/cc2ee[0]\n",
    "print(\"The new points will be a factor\", corrFac ,\"higher\")"
   ]
  },
  {
   "cell_type": "code",
   "execution_count": 30,
   "id": "dd29f9d8",
   "metadata": {},
   "outputs": [
    {
     "name": "stdout",
     "output_type": "stream",
     "text": [
      "The uncertainty is now  18.3 % instead of 22%\n"
     ]
    }
   ],
   "source": [
    "BRuncUp= cc2ee[1]/cc2ee[0]\n",
    "BRuncDown= cc2ee[2]/cc2ee[0]\n",
    "print(\"The uncertainty is now \",np.round(BRunc*100,1),\"% instead of 22%\")\n",
    "print(np.round(corrFac,2),\"^{}\")"
   ]
  },
  {
   "cell_type": "code",
   "execution_count": 31,
   "id": "fd8000df",
   "metadata": {},
   "outputs": [],
   "source": [
    "# values from the publication\n",
    "ypythia_ccbar  = [524., 854., 974.] \n",
    "ypythia_ccbar_sys  = [26.0, 145., 140.] \n",
    "ypythia_ccbar_stat = [61.0, 123., 138.] \n",
    "pythia_charm = [ypythia_ccbar,ypythia_ccbar_sys,ypythia_ccbar_stat]\n",
    "ypowheg_ccbar = [756.0, 1251.0, 1417.0] \n",
    "ypowheg_ccbar_sys  = [38.00, 213.0, 204.0] \n",
    "ypowheg_ccbar_stat = [80.00, 155.0, 184.0]\n",
    "powheg_charm = [ypowheg_ccbar,ypowheg_ccbar_sys,ypowheg_ccbar_stat]\n",
    "\n",
    "# go through lists and multiply with correction factor\n",
    "for x in range(len(pythia_charm)):\n",
    "    for y in range(len(pythia_charm[x])):\n",
    "        pythia_charm[x][y] = pythia_charm[x][y]*corrFac\n",
    "for x in range(len(powheg_charm)):\n",
    "    for y in range(len(powheg_charm[x])):\n",
    "        powheg_charm[x][y] = powheg_charm[x][y]*corrFac\n"
   ]
  },
  {
   "cell_type": "code",
   "execution_count": 32,
   "id": "9dfc3c5b",
   "metadata": {},
   "outputs": [
    {
     "name": "stdout",
     "output_type": "stream",
     "text": [
      "// # PYTHIA\n",
      "Double_t ypythia_ccbar[3]      = { 905.7119457372246 , 1476.1030566022707 , 1683.5180060077419 };\n",
      "Double_t ypythia_ccbar_sys[3]  = { 44.93990570451878 , 250.6263971982778 , 241.9841076397165 };\n",
      "Double_t ypythia_ccbar_stat[3] = { 105.4359326144479 , 212.60032314060805 , 238.52719181629197 };\n",
      "// # POWHEG\n",
      "Double_t ypowheg_ccbar[3]      = { 1306.7141812544692 , 2162.3008475520382 , 2449.2248608962736 };\n",
      "Double_t ypowheg_ccbar_sys[3]  = { 65.6814006450659 , 368.1615351947115 , 352.6054139893012 };\n",
      "Double_t ypowheg_ccbar_stat[3] = { 138.27663293698086 , 267.91097631540043 , 318.03625575505595 };\n"
     ]
    }
   ],
   "source": [
    "print(\"// # PYTHIA\")\n",
    "print(\"Double_t ypythia_ccbar[3]      = {\",pythia_charm[0][0],\",\",pythia_charm[0][1],\",\",pythia_charm[0][2],\"};\")\n",
    "print(\"Double_t ypythia_ccbar_sys[3]  = {\",pythia_charm[1][0],\",\",pythia_charm[1][1],\",\",pythia_charm[1][2],\"};\")\n",
    "print(\"Double_t ypythia_ccbar_stat[3] = {\",pythia_charm[2][0],\",\",pythia_charm[2][1],\",\",pythia_charm[2][2],\"};\")\n",
    "print(\"// # POWHEG\")\n",
    "print(\"Double_t ypowheg_ccbar[3]      = {\",powheg_charm[0][0],\",\",powheg_charm[0][1],\",\",powheg_charm[0][2],\"};\")\n",
    "print(\"Double_t ypowheg_ccbar_sys[3]  = {\",powheg_charm[1][0],\",\",powheg_charm[1][1],\",\",powheg_charm[1][2],\"};\")\n",
    "print(\"Double_t ypowheg_ccbar_stat[3] = {\",powheg_charm[2][0],\",\",powheg_charm[2][1],\",\",powheg_charm[2][2],\"};\")"
   ]
  },
  {
   "cell_type": "code",
   "execution_count": 38,
   "id": "0dac3e97",
   "metadata": {},
   "outputs": [
    {
     "name": "stdout",
     "output_type": "stream",
     "text": [
      "906.0 \\pm 45.0 (stat)\\pm 105.0 (syst)^{+ 154.0 }_{- 166.0 }(BR)\n",
      "1307.0 \\pm 66.0 (stat)\\pm 138.0 (syst)^{+ 222.0 }_{- 239.0 }(BR)\n"
     ]
    }
   ],
   "source": [
    "# we can now calcualte the full uncertainty\n",
    "print(np.round(pythia_charm[0][0],0),\"\\pm\",np.round(pythia_charm[1][0],0),\"(stat)\\pm\"\n",
    "      ,np.round(pythia_charm[2][0]),\"(syst)^{+\"\n",
    "      ,np.round(pythia_charm[0][0]*BRuncUp,0),\"}_{-\",np.round(pythia_charm[0][0]*BRuncDown,0),\"}(BR)\")\n",
    "print(np.round(powheg_charm[0][0],0),\"\\pm\",np.round(powheg_charm[1][0],0),\"(stat)\\pm\"\n",
    "      ,np.round(powheg_charm[2][0]),\"(syst)^{+\"\n",
    "      ,np.round(powheg_charm[0][0]*BRuncUp,0),\"}_{-\",np.round(powheg_charm[0][0]*BRuncDown,0),\"}(BR)\")"
   ]
  },
  {
   "cell_type": "code",
   "execution_count": null,
   "id": "f258c9fb",
   "metadata": {},
   "outputs": [],
   "source": []
  }
 ],
 "metadata": {
  "kernelspec": {
   "display_name": "Python 3 (ipykernel)",
   "language": "python",
   "name": "python3"
  },
  "language_info": {
   "codemirror_mode": {
    "name": "ipython",
    "version": 3
   },
   "file_extension": ".py",
   "mimetype": "text/x-python",
   "name": "python",
   "nbconvert_exporter": "python",
   "pygments_lexer": "ipython3",
   "version": "3.9.10"
  }
 },
 "nbformat": 4,
 "nbformat_minor": 5
}
